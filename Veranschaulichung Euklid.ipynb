{
 "cells": [
  {
   "cell_type": "code",
   "execution_count": 1,
   "metadata": {},
   "outputs": [],
   "source": [
    "import matplotlib.pyplot as plt\n",
    "from matplotlib.collections import PatchCollection\n",
    "from matplotlib.patches import Rectangle\n",
    "from matplotlib.ticker import MaxNLocator\n",
    "from ipywidgets import interact\n",
    "import ipywidgets as widgets"
   ]
  },
  {
   "cell_type": "code",
   "execution_count": 2,
   "metadata": {},
   "outputs": [],
   "source": [
    "def euclid(a,b):\n",
    "  while a!=b:\n",
    "    if a > b:\n",
    "      a -= b\n",
    "    else:\n",
    "      b -= a\n",
    "  return a"
   ]
  },
  {
   "cell_type": "code",
   "execution_count": 3,
   "metadata": {},
   "outputs": [],
   "source": [
    "def showeuclid(a,b):\n",
    "    x = 0\n",
    "    y = 0\n",
    "    count=100 #why do I need count?\n",
    "    fig, ax = plt.subplots(1)\n",
    "    ax.add_patch(Rectangle((x,y),a,b,fill=False))\n",
    "    while a != b and count > 0:\n",
    "        if a > b:\n",
    "            ax.add_patch(Rectangle((x,y),b,b))\n",
    "            ax.add_patch(Rectangle((x,y),b,b,fill=False))\n",
    "            a -= b\n",
    "            x += b\n",
    "        else:\n",
    "            ax.add_patch(Rectangle((x,y),a,a))\n",
    "            ax.add_patch(Rectangle((x,y),a,a,fill=False))\n",
    "            b -= a\n",
    "            y += a\n",
    "            count -= 1\n",
    "    if a == b:  \n",
    "        ax.add_patch(Rectangle((x,y),a,a,color='red'))\n",
    "        print('Grösster gemeinsamer Teiler:', a) \n",
    "    plt.axis('equal')\n",
    "    ax.yaxis.set_major_locator(MaxNLocator(integer=True))\n",
    "    ax.xaxis.set_major_locator(MaxNLocator(integer=True))\n",
    "    plt.show()"
   ]
  },
  {
   "cell_type": "markdown",
   "metadata": {},
   "source": [
    "# Veranschaulichung Euklidischer Algorithmus\n",
    "\n",
    "Gegeben zwei ganze Zahlen $a,b \\in \\mathbb Z$, findet der Euklidische Algorithmus deren grössten gemeinsamen Teiler $ggt(a,b) = max \\{x \\in \\mathbb Z | (x \\vert a) \\land (x \\vert b)\\}$\n",
    "\n",
    "Bildlich kann man sich den Algorithmus so vorstellen: \n",
    "1. Einem Rechteck mit Seitenlängen $a$ und $b$ wird das grösst mögliche Quadrat weggescnitten. Falls $a>b$ hat dieses die Seitenlänge $a$ sonst die Seitenlänge $b$.\n",
    "2. Falls keine Restfläche übrig bleibt, ist die Seitenlänge des Quadrats gleich dem $ggt(a,b)$.\n",
    "3. Falls eine Restfläche übrig bleibt, geht man zurück zu 1. benutzt aber nun die Restfläche als neues Rechteck."
   ]
  },
  {
   "cell_type": "code",
   "execution_count": 4,
   "metadata": {},
   "outputs": [
    {
     "data": {
      "application/vnd.jupyter.widget-view+json": {
       "model_id": "eb66903b44244bc39db70f9adb66f760",
       "version_major": 2,
       "version_minor": 0
      },
      "text/plain": [
       "interactive(children=(IntSlider(value=18, description='a', min=1), IntSlider(value=12, description='b', min=1)…"
      ]
     },
     "metadata": {},
     "output_type": "display_data"
    }
   ],
   "source": [
    "interact(euclid, a=widgets.IntSlider(min=1,max=100,step=1,value=18),\n",
    "                 b=widgets.IntSlider(min=1,max=100,step=1,value=12));"
   ]
  },
  {
   "cell_type": "code",
   "execution_count": 5,
   "metadata": {},
   "outputs": [
    {
     "data": {
      "application/vnd.jupyter.widget-view+json": {
       "model_id": "e40b6973883c45cbb7d31851ac6f4c60",
       "version_major": 2,
       "version_minor": 0
      },
      "text/plain": [
       "interactive(children=(IntSlider(value=18, description='a', min=1), IntSlider(value=12, description='b', min=1)…"
      ]
     },
     "metadata": {},
     "output_type": "display_data"
    }
   ],
   "source": [
    "interact(showeuclid, a=widgets.IntSlider(min=1,max=100,step=1,value=18),\n",
    "                 b=widgets.IntSlider(min=1,max=100,step=1,value=12));"
   ]
  },
  {
   "cell_type": "code",
   "execution_count": null,
   "metadata": {},
   "outputs": [],
   "source": []
  }
 ],
 "metadata": {
  "kernelspec": {
   "display_name": "Python 3",
   "language": "python",
   "name": "python3"
  },
  "language_info": {
   "codemirror_mode": {
    "name": "ipython",
    "version": 3
   },
   "file_extension": ".py",
   "mimetype": "text/x-python",
   "name": "python",
   "nbconvert_exporter": "python",
   "pygments_lexer": "ipython3",
   "version": "3.7.6"
  }
 },
 "nbformat": 4,
 "nbformat_minor": 4
}
